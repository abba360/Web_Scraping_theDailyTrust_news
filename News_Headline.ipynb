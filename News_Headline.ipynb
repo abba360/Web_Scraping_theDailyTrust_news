{
 "cells": [
  {
   "cell_type": "code",
   "execution_count": null,
   "metadata": {},
   "outputs": [],
   "source": [
    "from bs4 import BeautifulSoup\n",
    "import requests\n",
    "url = \"https://dailytrust.com/iswap-kills-200-bharam-terrorists-families-in-clash/\"\n",
    "response = requests.get(url)\n",
    "soup = BeautifulSoup(response.text,\"lxml\")\n",
    "headline = soup.find_all(\"h1\", class_=\"h1v1\")\n",
    "headline_contents = soup.find_all(\"p\")\n",
    "for headlne in  headline:\n",
    "    print(\"News Headline: \",headlne.text,\"\\n\")\n",
    "for headline_content in headline_contents[1:]:\n",
    "    print(headline_content.text,\"\\n\",\" \")"
   ]
  }
 ],
 "metadata": {
  "kernelspec": {
   "display_name": "base",
   "language": "python",
   "name": "python3"
  },
  "language_info": {
   "codemirror_mode": {
    "name": "ipython",
    "version": 3
   },
   "file_extension": ".py",
   "mimetype": "text/x-python",
   "name": "python",
   "nbconvert_exporter": "python",
   "pygments_lexer": "ipython3",
   "version": "3.8.5"
  },
  "orig_nbformat": 4
 },
 "nbformat": 4,
 "nbformat_minor": 2
}
